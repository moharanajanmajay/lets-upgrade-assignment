{
  "nbformat": 4,
  "nbformat_minor": 0,
  "metadata": {
    "colab": {
      "name": "first.ipynb",
      "provenance": [],
      "authorship_tag": "ABX9TyPCFbGnk7aiMoJNqte9yljd",
      "include_colab_link": true
    },
    "kernelspec": {
      "name": "python3",
      "display_name": "Python 3"
    }
  },
  "cells": [
    {
      "cell_type": "markdown",
      "metadata": {
        "id": "view-in-github",
        "colab_type": "text"
      },
      "source": [
        "<a href=\"https://colab.research.google.com/github/moharanajanmajay/lets-upgrade-assignment/blob/master/first.ipynb\" target=\"_parent\"><img src=\"https://colab.research.google.com/assets/colab-badge.svg\" alt=\"Open In Colab\"/></a>"
      ]
    },
    {
      "cell_type": "code",
      "metadata": {
        "id": "eaB0iGP7fHSF",
        "colab_type": "code",
        "colab": {}
      },
      "source": [
        "print('Enter the height of the aeroplane')\n",
        "height=input('The height of the aeroplane')\n",
        "height=int(height)\n",
        "if height < 1000:\n",
        "    print('Its safe to land')\n",
        "elif height > 1000 and height < 5000:\n",
        "    print('Bring it down to 1000 ft')\n",
        "else :\n",
        "    print('The height is more than 5000ft . Turn around and try again later')"
      ],
      "execution_count": null,
      "outputs": []
    }
  ]
}