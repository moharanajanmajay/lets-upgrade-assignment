{
  "nbformat": 4,
  "nbformat_minor": 0,
  "metadata": {
    "colab": {
      "name": "armstrong.ipynb",
      "provenance": [],
      "authorship_tag": "ABX9TyOK4MuzBF+5aNODcjiRvvSN",
      "include_colab_link": true
    },
    "kernelspec": {
      "name": "python3",
      "display_name": "Python 3"
    }
  },
  "cells": [
    {
      "cell_type": "markdown",
      "metadata": {
        "id": "view-in-github",
        "colab_type": "text"
      },
      "source": [
        "<a href=\"https://colab.research.google.com/github/moharanajanmajay/lets-upgrade-assignment/blob/master/armstrong.ipynb\" target=\"_parent\"><img src=\"https://colab.research.google.com/assets/colab-badge.svg\" alt=\"Open In Colab\"/></a>"
      ]
    },
    {
      "cell_type": "code",
      "metadata": {
        "id": "MN10xjb8P01g",
        "colab_type": "code",
        "colab": {}
      },
      "source": [
        "min = int(input(\"Enter lower range: \"))\n",
        "max = int(input(\"Enter upper range: \"))\n",
        " \n",
        "for num in range(min,max + 1):\n",
        "   sum = 0\n",
        "\n",
        "   temp = num\n",
        "   while temp > 0:\n",
        "       digit = temp % 10\n",
        "       sum += digit ** 3\n",
        "       temp //= 10\n",
        " \n",
        "   if num == sum:\n",
        "       print('the first armstrong number in the range is ',num)\n",
        "       break\n",
        "       "
      ],
      "execution_count": null,
      "outputs": []
    }
  ]
}