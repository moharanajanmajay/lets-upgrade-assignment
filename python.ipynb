{
  "nbformat": 4,
  "nbformat_minor": 0,
  "metadata": {
    "colab": {
      "name": "python.ipynb",
      "provenance": [],
      "authorship_tag": "ABX9TyNxpkFhwaqzsLs0HLvi4zz5",
      "include_colab_link": true
    },
    "kernelspec": {
      "name": "python3",
      "display_name": "Python 3"
    }
  },
  "cells": [
    {
      "cell_type": "markdown",
      "metadata": {
        "id": "view-in-github",
        "colab_type": "text"
      },
      "source": [
        "<a href=\"https://colab.research.google.com/github/moharanajanmajay/lets-upgrade-assignment/blob/master/python.ipynb\" target=\"_parent\"><img src=\"https://colab.research.google.com/assets/colab-badge.svg\" alt=\"Open In Colab\"/></a>"
      ]
    },
    {
      "cell_type": "markdown",
      "metadata": {
        "id": "cHPtXmJ-MEE7",
        "colab_type": "text"
      },
      "source": [
        "# list datatype\n"
      ]
    },
    {
      "cell_type": "code",
      "metadata": {
        "id": "AERRl75K0X1H",
        "colab_type": "code",
        "colab": {}
      },
      "source": [
        "lst=['janmajay','manisha','bikash','ashutosh']\n",
        "lst.append('Sourav')\n",
        "print(lst)\n",
        "lst.count('bikash')\n",
        "lst.copy()\n",
        "lst.pop(3)\n",
        "lst.insert(3,'ashutosh')\n",
        "print(lst)\n",
        "lst.reverse()\n",
        "lst.sort()\n",
        "lst.clear()\n",
        "\n"
      ],
      "execution_count": null,
      "outputs": []
    },
    {
      "cell_type": "markdown",
      "metadata": {
        "id": "P2ORRXPAMNSM",
        "colab_type": "text"
      },
      "source": [
        "# dictionary datatype\n"
      ]
    },
    {
      "cell_type": "code",
      "metadata": {
        "id": "sOofGFFT5XHC",
        "colab_type": "code",
        "colab": {}
      },
      "source": [
        "dit={'name':'janmajay','age':'20','email':'moharanajanmajay@gmail.com'}\n",
        "dit['name']\n",
        "dit.get('name')\n",
        "dit.keys()\n",
        "dit.popitem()\n",
        "dit.fromkeys('age')\n",
        "dit.items()\n",
        "dit.fromkeys('name')\n",
        "dit.update()\n",
        "dit.values()\n",
        "dit.setdefault('name')\n",
        "dit.clear()"
      ],
      "execution_count": 70,
      "outputs": []
    },
    {
      "cell_type": "markdown",
      "metadata": {
        "id": "XsHraI1PMfIW",
        "colab_type": "text"
      },
      "source": [
        "# set datatype"
      ]
    },
    {
      "cell_type": "code",
      "metadata": {
        "id": "OsTdT1XdM6p3",
        "colab_type": "code",
        "colab": {
          "base_uri": "https://localhost:8080/",
          "height": 34
        },
        "outputId": "3931a19e-fac9-4400-9bf8-1f2e899366a4"
      },
      "source": [
        "st={'raazi','war','befikre','jab we met'}\n",
        "st1={'raazi'}\n",
        "st2={'war','befikre'}\n",
        "st1.issubset(st)\n",
        "st1.isdisjoint(st2)\n",
        "st1.symmetric_difference(st)\n",
        "st2.union(st1)\n",
        "==st2.intersection(st)"
      ],
      "execution_count": 41,
      "outputs": [
        {
          "output_type": "execute_result",
          "data": {
            "text/plain": [
              "{'befikre', 'war'}"
            ]
          },
          "metadata": {
            "tags": []
          },
          "execution_count": 41
        }
      ]
    },
    {
      "cell_type": "markdown",
      "metadata": {
        "id": "FMkhLs9gOU19",
        "colab_type": "text"
      },
      "source": [
        "# Tuples datatype"
      ]
    },
    {
      "cell_type": "code",
      "metadata": {
        "id": "QfV0p0JpOgHz",
        "colab_type": "code",
        "colab": {}
      },
      "source": [
        "tup=('java','c','c++','php')\n",
        "tup.index('java')\n",
        "tup.count('php')"
      ],
      "execution_count": null,
      "outputs": []
    },
    {
      "cell_type": "markdown",
      "metadata": {
        "id": "8bRFW1JIPFK2",
        "colab_type": "text"
      },
      "source": [
        "# boolean datatype"
      ]
    },
    {
      "cell_type": "code",
      "metadata": {
        "id": "kSzOLTO3PKCD",
        "colab_type": "code",
        "colab": {}
      },
      "source": [
        "jkl=True\n",
        "sdf=False"
      ],
      "execution_count": 49,
      "outputs": []
    },
    {
      "cell_type": "markdown",
      "metadata": {
        "id": "vtaookPqP9e3",
        "colab_type": "text"
      },
      "source": [
        "# String datatype"
      ]
    },
    {
      "cell_type": "code",
      "metadata": {
        "id": "nGfZ1a-iSWba",
        "colab_type": "code",
        "colab": {
          "base_uri": "https://localhost:8080/",
          "height": 35
        },
        "outputId": "1ebdfeec-d127-42a9-dc5e-a9b15d4a728f"
      },
      "source": [
        "name='janmajay moharana'\n",
        "name[0]\n",
        "name[0:8]\n",
        "name.count('janmajay')\n",
        "name.join('php')\n",
        "name.replace('j','k')\n",
        "name.upper()"
      ],
      "execution_count": 91,
      "outputs": [
        {
          "output_type": "execute_result",
          "data": {
            "application/vnd.google.colaboratory.intrinsic+json": {
              "type": "string"
            },
            "text/plain": [
              "'JANMAJAY MOHARANA'"
            ]
          },
          "metadata": {
            "tags": []
          },
          "execution_count": 91
        }
      ]
    }
  ]
}